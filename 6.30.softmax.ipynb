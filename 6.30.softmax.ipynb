{
 "cells": [
  {
   "cell_type": "markdown",
   "id": "3eceff43",
   "metadata": {},
   "source": [
    "# 分类问题\n",
    "实践上 我们关心的是“软性”分类 即 属于哪一类的“概率”而非硬性的完全分类\n"
   ]
  },
  {
   "cell_type": "code",
   "execution_count": null,
   "id": "509fb399",
   "metadata": {},
   "outputs": [],
   "source": []
  }
 ],
 "metadata": {
  "kernelspec": {
   "display_name": "Python 3 (ipykernel)",
   "language": "python",
   "name": "python3"
  },
  "language_info": {
   "codemirror_mode": {
    "name": "ipython",
    "version": 3
   },
   "file_extension": ".py",
   "mimetype": "text/x-python",
   "name": "python",
   "nbconvert_exporter": "python",
   "pygments_lexer": "ipython3",
   "version": "3.9.19"
  }
 },
 "nbformat": 4,
 "nbformat_minor": 5
}
