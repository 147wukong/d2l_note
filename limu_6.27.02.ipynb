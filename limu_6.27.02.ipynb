{
 "cells": [
  {
   "cell_type": "markdown",
   "id": "68c23a06",
   "metadata": {},
   "source": [
    "# 数据操作"
   ]
  },
  {
   "cell_type": "markdown",
   "id": "75a80286",
   "metadata": {},
   "source": [
    "获取 储存数据\n",
    "数据结构：pytorch tensor（张量 n维数组） (numpy中有ndarray 但只能用cpu 且不能自动微分 so 我们用tensor）\n",
    "\n"
   ]
  },
  {
   "cell_type": "code",
   "execution_count": 57,
   "id": "6f09e0f7-4889-4073-9e5e-10ffd9351fb1",
   "metadata": {},
   "outputs": [],
   "source": [
    "import torch"
   ]
  },
  {
   "cell_type": "markdown",
   "id": "7e99b8ff",
   "metadata": {},
   "source": [
    "# 创建张量\n",
    "几个[[ 就是几维度"
   ]
  },
  {
   "cell_type": "markdown",
   "id": "e44f54f8",
   "metadata": {},
   "source": [
    ".arange 自然数"
   ]
  },
  {
   "cell_type": "code",
   "execution_count": 58,
   "id": "388b2574-4caa-480f-a771-23d302964d5c",
   "metadata": {},
   "outputs": [
    {
     "data": {
      "text/plain": [
       "tensor([ 0,  1,  2,  3,  4,  5,  6,  7,  8,  9, 10, 11])"
      ]
     },
     "execution_count": 58,
     "metadata": {},
     "output_type": "execute_result"
    }
   ],
   "source": [
    "x = torch.arange(12)\n",
    "x"
   ]
  },
  {
   "cell_type": "code",
   "execution_count": 59,
   "id": "86cf4962",
   "metadata": {},
   "outputs": [
    {
     "data": {
      "text/plain": [
       "torch.Size([12])"
      ]
     },
     "execution_count": 59,
     "metadata": {},
     "output_type": "execute_result"
    }
   ],
   "source": [
    "x.shape #访问形状"
   ]
  },
  {
   "cell_type": "code",
   "execution_count": 60,
   "id": "ea87a4d8",
   "metadata": {},
   "outputs": [
    {
     "data": {
      "text/plain": [
       "12"
      ]
     },
     "execution_count": 60,
     "metadata": {},
     "output_type": "execute_result"
    }
   ],
   "source": [
    "x.numel()#种数\n"
   ]
  },
  {
   "cell_type": "code",
   "execution_count": 61,
   "id": "ca3c1c60",
   "metadata": {},
   "outputs": [
    {
     "data": {
      "text/plain": [
       "tensor([[ 0,  1,  2,  3,  4,  5],\n",
       "        [ 6,  7,  8,  9, 10, 11]])"
      ]
     },
     "execution_count": 61,
     "metadata": {},
     "output_type": "execute_result"
    }
   ],
   "source": [
    "x = x.reshape(2,-1)#用-1占位  自动计算需要2行的列数\n",
    "x"
   ]
  },
  {
   "cell_type": "code",
   "execution_count": 62,
   "id": "ffb90d32",
   "metadata": {},
   "outputs": [
    {
     "data": {
      "text/plain": [
       "tensor([[ 0,  1,  2,  3],\n",
       "        [ 4,  5,  6,  7],\n",
       "        [ 8,  9, 10, 11]])"
      ]
     },
     "execution_count": 62,
     "metadata": {},
     "output_type": "execute_result"
    }
   ],
   "source": [
    "x = x.reshape(3,4)\n",
    "x"
   ]
  },
  {
   "cell_type": "code",
   "execution_count": 63,
   "id": "577c6607",
   "metadata": {},
   "outputs": [
    {
     "ename": "SyntaxError",
     "evalue": "invalid syntax (4040446139.py, line 1)",
     "output_type": "error",
     "traceback": [
      "\u001b[1;36m  Cell \u001b[1;32mIn[63], line 1\u001b[1;36m\u001b[0m\n\u001b[1;33m    .tensor 自定义\u001b[0m\n\u001b[1;37m    ^\u001b[0m\n\u001b[1;31mSyntaxError\u001b[0m\u001b[1;31m:\u001b[0m invalid syntax\n"
     ]
    }
   ],
   "source": [
    ".tensor 自定义"
   ]
  },
  {
   "cell_type": "code",
   "execution_count": 64,
   "id": "a3cd59b2",
   "metadata": {},
   "outputs": [],
   "source": [
    "y=torch.tensor([1,1,1,1,2,2,2,2,3,3,3,3])\n",
    "y = y.reshape(3,4)\n"
   ]
  },
  {
   "cell_type": "markdown",
   "id": "df63e1a0",
   "metadata": {},
   "source": [
    ".ones .zeros 全01"
   ]
  },
  {
   "cell_type": "code",
   "execution_count": 65,
   "id": "83acca39",
   "metadata": {},
   "outputs": [
    {
     "data": {
      "text/plain": [
       "tensor([[1., 1.]])"
      ]
     },
     "execution_count": 65,
     "metadata": {},
     "output_type": "execute_result"
    }
   ],
   "source": [
    "torch.ones(1,2)"
   ]
  },
  {
   "cell_type": "code",
   "execution_count": 66,
   "id": "87db1790",
   "metadata": {},
   "outputs": [
    {
     "data": {
      "text/plain": [
       "tensor([[[0., 0., 0., 0.],\n",
       "         [0., 0., 0., 0.],\n",
       "         [0., 0., 0., 0.]],\n",
       "\n",
       "        [[0., 0., 0., 0.],\n",
       "         [0., 0., 0., 0.],\n",
       "         [0., 0., 0., 0.]]])"
      ]
     },
     "execution_count": 66,
     "metadata": {},
     "output_type": "execute_result"
    }
   ],
   "source": [
    "torch.zeros(2,3,4)"
   ]
  },
  {
   "cell_type": "markdown",
   "id": "49b5c847",
   "metadata": {},
   "source": [
    ".randn 随机"
   ]
  },
  {
   "cell_type": "markdown",
   "id": "e1388c4b",
   "metadata": {},
   "source": [
    "# 运算"
   ]
  },
  {
   "cell_type": "code",
   "execution_count": 67,
   "id": "520d356e",
   "metadata": {},
   "outputs": [
    {
     "data": {
      "text/plain": [
       "tensor([[False,  True, False, False],\n",
       "        [False, False, False, False],\n",
       "        [False, False, False, False]])"
      ]
     },
     "execution_count": 67,
     "metadata": {},
     "output_type": "execute_result"
    }
   ],
   "source": [
    "x == y"
   ]
  },
  {
   "cell_type": "code",
   "execution_count": 68,
   "id": "28b45331",
   "metadata": {},
   "outputs": [
    {
     "data": {
      "text/plain": [
       "tensor(66)"
      ]
     },
     "execution_count": 68,
     "metadata": {},
     "output_type": "execute_result"
    }
   ],
   "source": [
    "x.sum()"
   ]
  },
  {
   "cell_type": "markdown",
   "id": "3fe418e5",
   "metadata": {},
   "source": [
    "按位相乘（不同于数学）"
   ]
  },
  {
   "cell_type": "code",
   "execution_count": 69,
   "id": "a7f57cdf",
   "metadata": {},
   "outputs": [
    {
     "data": {
      "text/plain": [
       "tensor([[ 0,  1,  2,  3],\n",
       "        [ 8, 10, 12, 14],\n",
       "        [24, 27, 30, 33]])"
      ]
     },
     "execution_count": 69,
     "metadata": {},
     "output_type": "execute_result"
    }
   ],
   "source": [
    "x * y\n"
   ]
  },
  {
   "cell_type": "markdown",
   "id": "67636cce",
   "metadata": {},
   "source": [
    "幂运算"
   ]
  },
  {
   "cell_type": "code",
   "execution_count": 70,
   "id": "55479ef6",
   "metadata": {},
   "outputs": [
    {
     "data": {
      "text/plain": [
       "tensor([[   0,    1,    2,    3],\n",
       "        [  16,   25,   36,   49],\n",
       "        [ 512,  729, 1000, 1331]])"
      ]
     },
     "execution_count": 70,
     "metadata": {},
     "output_type": "execute_result"
    }
   ],
   "source": [
    "x ** y"
   ]
  },
  {
   "cell_type": "markdown",
   "id": "2dd35be4",
   "metadata": {},
   "source": [
    "结合两个张量"
   ]
  },
  {
   "cell_type": "code",
   "execution_count": 71,
   "id": "41334733",
   "metadata": {},
   "outputs": [
    {
     "data": {
      "text/plain": [
       "tensor([[ 0,  1,  2,  3],\n",
       "        [ 4,  5,  6,  7],\n",
       "        [ 8,  9, 10, 11],\n",
       "        [ 1,  1,  1,  1],\n",
       "        [ 2,  2,  2,  2],\n",
       "        [ 3,  3,  3,  3]])"
      ]
     },
     "execution_count": 71,
     "metadata": {},
     "output_type": "execute_result"
    }
   ],
   "source": [
    "torch.cat((x,y),dim=0)"
   ]
  },
  {
   "cell_type": "code",
   "execution_count": 72,
   "id": "01dd3d57",
   "metadata": {},
   "outputs": [
    {
     "data": {
      "text/plain": [
       "tensor([[ 0,  1,  2,  3,  1,  1,  1,  1],\n",
       "        [ 4,  5,  6,  7,  2,  2,  2,  2],\n",
       "        [ 8,  9, 10, 11,  3,  3,  3,  3]])"
      ]
     },
     "execution_count": 72,
     "metadata": {},
     "output_type": "execute_result"
    }
   ],
   "source": [
    "torch.cat((x,y),dim=1)"
   ]
  },
  {
   "cell_type": "markdown",
   "id": "247cebf1",
   "metadata": {},
   "source": [
    "指定dim =0只是上下累积，=1则在一个维度中链接"
   ]
  },
  {
   "cell_type": "markdown",
   "id": "aeafc7f4",
   "metadata": {},
   "source": [
    "# 广播机制broadcasting mechanism \n",
    "自动通过复制补充填满为相同shape的张量 再进行加减"
   ]
  },
  {
   "cell_type": "code",
   "execution_count": 73,
   "id": "9b8a3c17",
   "metadata": {},
   "outputs": [
    {
     "data": {
      "text/plain": [
       "(tensor([[0],\n",
       "         [1],\n",
       "         [2]]),\n",
       " tensor([[0, 1]]))"
      ]
     },
     "execution_count": 73,
     "metadata": {},
     "output_type": "execute_result"
    }
   ],
   "source": [
    "a = torch.arange(3).reshape((3,1))\n",
    "b = torch.arange(2).reshape((1,2))\n",
    "a,b"
   ]
  },
  {
   "cell_type": "code",
   "execution_count": 74,
   "id": "d24a3f11",
   "metadata": {},
   "outputs": [
    {
     "data": {
      "text/plain": [
       "tensor([[0, 1],\n",
       "        [1, 2],\n",
       "        [2, 3]])"
      ]
     },
     "execution_count": 74,
     "metadata": {},
     "output_type": "execute_result"
    }
   ],
   "source": [
    "a + b"
   ]
  },
  {
   "cell_type": "markdown",
   "id": "5d82947d",
   "metadata": {},
   "source": [
    "# 元素访问"
   ]
  },
  {
   "cell_type": "code",
   "execution_count": 75,
   "id": "d0de7fd7",
   "metadata": {},
   "outputs": [
    {
     "data": {
      "text/plain": [
       "(tensor([ 8,  9, 10, 11]),\n",
       " tensor([[ 4,  5,  6,  7],\n",
       "         [ 8,  9, 10, 11]]))"
      ]
     },
     "execution_count": 75,
     "metadata": {},
     "output_type": "execute_result"
    }
   ],
   "source": [
    "x[-1],x[1:3]"
   ]
  },
  {
   "cell_type": "code",
   "execution_count": 76,
   "id": "c7dae3a0",
   "metadata": {},
   "outputs": [],
   "source": [
    "x=x.reshape((3,4))"
   ]
  },
  {
   "cell_type": "code",
   "execution_count": 77,
   "id": "42980930",
   "metadata": {},
   "outputs": [
    {
     "data": {
      "text/plain": [
       "tensor([[12, 12, 12, 12],\n",
       "        [12, 12, 12, 12],\n",
       "        [ 8,  9, 10, 11]])"
      ]
     },
     "execution_count": 77,
     "metadata": {},
     "output_type": "execute_result"
    }
   ],
   "source": [
    "x[0:2,:] = 12\n",
    "x"
   ]
  },
  {
   "cell_type": "markdown",
   "id": "f9503063",
   "metadata": {},
   "source": [
    "选中0到2 前闭后开 冒号表示该行全选"
   ]
  },
  {
   "cell_type": "markdown",
   "id": "f260dc8d",
   "metadata": {},
   "source": [
    "# 原地操作 避免浪费内存"
   ]
  },
  {
   "cell_type": "code",
   "execution_count": 78,
   "id": "8a69aa8e",
   "metadata": {},
   "outputs": [
    {
     "name": "stdout",
     "output_type": "stream",
     "text": [
      "id: 2203268867152\n",
      "id 2203268867152\n"
     ]
    }
   ],
   "source": [
    "z = torch.zeros_like(x)\n",
    "print('id:',id(z))\n",
    "z[:] = x + x\n",
    "print('id',id(z))"
   ]
  },
  {
   "cell_type": "markdown",
   "id": "e77119a7",
   "metadata": {},
   "source": [
    "id为类似指针的东西\n",
    "用冒号全选中"
   ]
  },
  {
   "cell_type": "markdown",
   "id": "bc3569a4",
   "metadata": {},
   "source": [
    "# tensor可转换为其他对象\n"
   ]
  },
  {
   "cell_type": "code",
   "execution_count": 79,
   "id": "3e1917f9",
   "metadata": {},
   "outputs": [
    {
     "data": {
      "text/plain": [
       "(numpy.ndarray, torch.Tensor)"
      ]
     },
     "execution_count": 79,
     "metadata": {},
     "output_type": "execute_result"
    }
   ],
   "source": [
    "m = x.numpy() #转为numpy的dnarray\n",
    "b =torch.tensor(m) # 同自定义法 直接创建\n",
    "\n",
    "type(m),type(b)"
   ]
  },
  {
   "cell_type": "markdown",
   "id": "046fcde3",
   "metadata": {},
   "source": [
    "# 数据预处理\n",
    "use pandas 将原始数据 转为tensor格式 \n",
    "\n",
    "# 创建数据集 存csv文件中\n",
    "逗号分隔值文件 一行为表头列名 下面都是表中的数据）"
   ]
  },
  {
   "cell_type": "code",
   "execution_count": 80,
   "id": "9e000159",
   "metadata": {},
   "outputs": [],
   "source": [
    "import os\n",
    "\n",
    "os.makedirs(os.path.join('..','data'),exist_ok=True)\n",
    "data_file = os.path.join('..','data','house_tiny.csv')\n",
    "with open(data_file,'w') as f:\n",
    "    f.write('Numrooom,alley,price\\n')#列名\n",
    "    f.write('na,na,104000\\n')\n",
    "    f.write('pace,na,106000\\n')\n",
    "    "
   ]
  },
  {
   "cell_type": "markdown",
   "id": "60b9f88e",
   "metadata": {},
   "source": [
    "os 是 Python 标准库中的一个模块，提供了丰富的功能用于与操作系统进行交互\n",
    "这个模块允许你执行很多与操作系统相关的任务，例如文件和目录的操作、进程管理、环境变量获取等。（获取当前工作目录cwd = os.getcwd()）\n",
    "os.makedirs 函数创建一个新的目录\n",
    "os.path.join('..', 'data') 表示在当前目录的上一级目录中创建一个名为 data 的目录\n",
    "exist_ok=True 表示如果目录已经存在，不会报错\n",
    "定义 CSV 文件的路径 data_file，将其设定为上一级目录中的 data 目录下的 house_tiny.csv 文件\n",
    "这段代码打开（如果文件不存在则创建）一个名为 house_tiny.csv 的文件，模式为写入（'w'），并将文件对象赋值给 f。然后使用 f.write 方法向文件中写入数据"
   ]
  },
  {
   "cell_type": "markdown",
   "id": "1264681b",
   "metadata": {},
   "source": [
    "用panda pd. 读取文件"
   ]
  },
  {
   "cell_type": "code",
   "execution_count": 81,
   "id": "0fbee3e3",
   "metadata": {},
   "outputs": [
    {
     "data": {
      "text/html": [
       "<div>\n",
       "<style scoped>\n",
       "    .dataframe tbody tr th:only-of-type {\n",
       "        vertical-align: middle;\n",
       "    }\n",
       "\n",
       "    .dataframe tbody tr th {\n",
       "        vertical-align: top;\n",
       "    }\n",
       "\n",
       "    .dataframe thead th {\n",
       "        text-align: right;\n",
       "    }\n",
       "</style>\n",
       "<table border=\"1\" class=\"dataframe\">\n",
       "  <thead>\n",
       "    <tr style=\"text-align: right;\">\n",
       "      <th></th>\n",
       "      <th>Numrooom</th>\n",
       "      <th>alley</th>\n",
       "      <th>price</th>\n",
       "    </tr>\n",
       "  </thead>\n",
       "  <tbody>\n",
       "    <tr>\n",
       "      <th>0</th>\n",
       "      <td>na</td>\n",
       "      <td>na</td>\n",
       "      <td>104000</td>\n",
       "    </tr>\n",
       "    <tr>\n",
       "      <th>1</th>\n",
       "      <td>pace</td>\n",
       "      <td>na</td>\n",
       "      <td>106000</td>\n",
       "    </tr>\n",
       "  </tbody>\n",
       "</table>\n",
       "</div>"
      ],
      "text/plain": [
       "  Numrooom alley   price\n",
       "0       na    na  104000\n",
       "1     pace    na  106000"
      ]
     },
     "execution_count": 81,
     "metadata": {},
     "output_type": "execute_result"
    }
   ],
   "source": [
    "import pandas as pd\n",
    "\n",
    "data = pd.read_csv(data_file)\n",
    "data"
   ]
  },
  {
   "cell_type": "markdown",
   "id": "999aef90",
   "metadata": {},
   "source": [
    "# 处理缺失数据（NaN）  常选插值方法"
   ]
  },
  {
   "cell_type": "code",
   "execution_count": 82,
   "id": "b3734488",
   "metadata": {},
   "outputs": [
    {
     "name": "stdout",
     "output_type": "stream",
     "text": [
      "  Numrooom alley\n",
      "0       na    na\n",
      "1     pace    na\n"
     ]
    }
   ],
   "source": [
    "inputs,output = data.iloc[:,0:2],data.iloc[:,2] #iloc方法选择索引\n",
    "inputs = inputs.fillna(inputs.mean()) \n",
    "print(inputs)"
   ]
  },
  {
   "cell_type": "markdown",
   "id": "49785155",
   "metadata": {},
   "source": [
    "inputs.fillna(inputs.mean()) 将 inputs DataFrame 中的缺失值（NaN）用 inputs 每一列的均值替换。"
   ]
  },
  {
   "cell_type": "code",
   "execution_count": 83,
   "id": "60361710",
   "metadata": {},
   "outputs": [
    {
     "name": "stdout",
     "output_type": "stream",
     "text": [
      "   Numrooom_na  Numrooom_pace  Numrooom_nan  alley_na  alley_nan\n",
      "0            1              0             0         1          0\n",
      "1            0              1             0         1          0\n"
     ]
    }
   ],
   "source": [
    "inputs = pd.get_dummies(inputs,dummy_na=True)\n",
    "print(inputs)"
   ]
  },
  {
   "cell_type": "markdown",
   "id": "a052e1e1",
   "metadata": {},
   "source": [
    "用dummies 讲inputs数据变为离散型01"
   ]
  },
  {
   "cell_type": "markdown",
   "id": "c7d6aef6",
   "metadata": {},
   "source": [
    "# 数据全为数值时 转为tensor"
   ]
  },
  {
   "cell_type": "code",
   "execution_count": 84,
   "id": "63a7a273",
   "metadata": {},
   "outputs": [
    {
     "data": {
      "text/plain": [
       "tensor([[1, 0, 0, 1, 0],\n",
       "        [0, 1, 0, 1, 0]], dtype=torch.uint8)"
      ]
     },
     "execution_count": 84,
     "metadata": {},
     "output_type": "execute_result"
    }
   ],
   "source": [
    "x = torch.tensor(inputs.values)\n",
    "x"
   ]
  },
  {
   "cell_type": "code",
   "execution_count": null,
   "id": "fb16777d",
   "metadata": {},
   "outputs": [],
   "source": []
  }
 ],
 "metadata": {
  "kernelspec": {
   "display_name": "Python 3 (ipykernel)",
   "language": "python",
   "name": "python3"
  },
  "language_info": {
   "codemirror_mode": {
    "name": "ipython",
    "version": 3
   },
   "file_extension": ".py",
   "mimetype": "text/x-python",
   "name": "python",
   "nbconvert_exporter": "python",
   "pygments_lexer": "ipython3",
   "version": "3.9.19"
  }
 },
 "nbformat": 4,
 "nbformat_minor": 5
}
