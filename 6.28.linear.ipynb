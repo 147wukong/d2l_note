{
 "cells": [
  {
   "cell_type": "markdown",
   "id": "415da8c6",
   "metadata": {},
   "source": [
    "# 线性代数"
   ]
  },
  {
   "cell_type": "code",
   "execution_count": 3,
   "id": "8be55067",
   "metadata": {},
   "outputs": [],
   "source": [
    " import torch"
   ]
  },
  {
   "cell_type": "code",
   "execution_count": 4,
   "id": "2b7a2ec1",
   "metadata": {},
   "outputs": [
    {
     "data": {
      "text/plain": [
       "4"
      ]
     },
     "execution_count": 4,
     "metadata": {},
     "output_type": "execute_result"
    }
   ],
   "source": [
    "x= torch.arange(4)\n",
    "len(x)"
   ]
  },
  {
   "cell_type": "code",
   "execution_count": 6,
   "id": "eff2464a",
   "metadata": {},
   "outputs": [
    {
     "data": {
      "text/plain": [
       "(tensor(1), torch.Size([4]))"
      ]
     },
     "execution_count": 6,
     "metadata": {},
     "output_type": "execute_result"
    }
   ],
   "source": [
    "x[1],x.shape"
   ]
  },
  {
   "cell_type": "code",
   "execution_count": 7,
   "id": "bec0547e",
   "metadata": {},
   "outputs": [
    {
     "data": {
      "text/plain": [
       "tensor([[ 0,  1,  2,  3],\n",
       "        [ 4,  5,  6,  7],\n",
       "        [ 8,  9, 10, 11],\n",
       "        [12, 13, 14, 15],\n",
       "        [16, 17, 18, 19]])"
      ]
     },
     "execution_count": 7,
     "metadata": {},
     "output_type": "execute_result"
    }
   ],
   "source": [
    "A = torch.arange(20).reshape(5, 4)\n",
    "A"
   ]
  },
  {
   "cell_type": "code",
   "execution_count": 8,
   "id": "1705966e",
   "metadata": {},
   "outputs": [
    {
     "data": {
      "text/plain": [
       "tensor([[ 0,  4,  8, 12, 16],\n",
       "        [ 1,  5,  9, 13, 17],\n",
       "        [ 2,  6, 10, 14, 18],\n",
       "        [ 3,  7, 11, 15, 19]])"
      ]
     },
     "execution_count": 8,
     "metadata": {},
     "output_type": "execute_result"
    }
   ],
   "source": [
    "A.T"
   ]
  },
  {
   "cell_type": "code",
   "execution_count": 55,
   "id": "a9bfdcf7",
   "metadata": {},
   "outputs": [
    {
     "data": {
      "text/plain": [
       "tensor([[ 0.,  1.,  2.,  3.],\n",
       "        [ 4.,  5.,  6.,  7.],\n",
       "        [ 8.,  9., 10., 11.],\n",
       "        [12., 13., 14., 15.],\n",
       "        [16., 17., 18., 19.]])"
      ]
     },
     "execution_count": 55,
     "metadata": {},
     "output_type": "execute_result"
    }
   ],
   "source": [
    "B=A.clone() #直接b=a 则是共用一个id\n",
    "B"
   ]
  },
  {
   "cell_type": "markdown",
   "id": "a292a85e",
   "metadata": {},
   "source": [
    "clone（）法 重新分配地址"
   ]
  },
  {
   "cell_type": "markdown",
   "id": "af499d6d",
   "metadata": {},
   "source": [
    "计算张量 或 矩阵的 all元素sum"
   ]
  },
  {
   "cell_type": "code",
   "execution_count": 11,
   "id": "a23a3399",
   "metadata": {},
   "outputs": [
    {
     "data": {
      "text/plain": [
       "tensor(190)"
      ]
     },
     "execution_count": 11,
     "metadata": {},
     "output_type": "execute_result"
    }
   ],
   "source": [
    "A.sum()"
   ]
  },
  {
   "cell_type": "code",
   "execution_count": 12,
   "id": "3093b8af",
   "metadata": {},
   "outputs": [
    {
     "data": {
      "text/plain": [
       "(tensor([[ 0,  1,  2,  3],\n",
       "         [ 4,  5,  6,  7],\n",
       "         [ 8,  9, 10, 11],\n",
       "         [12, 13, 14, 15],\n",
       "         [16, 17, 18, 19]]),\n",
       " tensor([40, 45, 50, 55]))"
      ]
     },
     "execution_count": 12,
     "metadata": {},
     "output_type": "execute_result"
    }
   ],
   "source": [
    "\n",
    "A_sum_axis0 = A.sum(axis=0)\n",
    "A,A_sum_axis0"
   ]
  },
  {
   "cell_type": "markdown",
   "id": "ddaa9593",
   "metadata": {},
   "source": [
    "# 沿指定的轴降低维度"
   ]
  },
  {
   "cell_type": "markdown",
   "id": "5664431e",
   "metadata": {},
   "source": [
    "汇总到0轴  (上下压"
   ]
  },
  {
   "cell_type": "code",
   "execution_count": 13,
   "id": "f429f165",
   "metadata": {},
   "outputs": [
    {
     "data": {
      "text/plain": [
       "(tensor([[ 0,  1,  2,  3],\n",
       "         [ 4,  5,  6,  7],\n",
       "         [ 8,  9, 10, 11],\n",
       "         [12, 13, 14, 15],\n",
       "         [16, 17, 18, 19]]),\n",
       " tensor([ 6, 22, 38, 54, 70]))"
      ]
     },
     "execution_count": 13,
     "metadata": {},
     "output_type": "execute_result"
    }
   ],
   "source": [
    "A_sum_1 = A.sum(axis=1)\n",
    "A,A_sum_1"
   ]
  },
  {
   "cell_type": "markdown",
   "id": "85bbc2a0",
   "metadata": {},
   "source": [
    "汇总在1轴"
   ]
  },
  {
   "cell_type": "code",
   "execution_count": 18,
   "id": "6a67edf8",
   "metadata": {},
   "outputs": [
    {
     "data": {
      "text/plain": [
       "tensor([[ 6.],\n",
       "        [22.],\n",
       "        [38.],\n",
       "        [54.],\n",
       "        [70.]])"
      ]
     },
     "execution_count": 18,
     "metadata": {},
     "output_type": "execute_result"
    }
   ],
   "source": [
    "A_sum_11=A.sum(axis=1,keepdim=True)\n",
    "#维持轴数\n",
    "A_sum_11"
   ]
  },
  {
   "cell_type": "code",
   "execution_count": 16,
   "id": "8d80bf23",
   "metadata": {},
   "outputs": [
    {
     "data": {
      "text/plain": [
       "tensor(9.5000)"
      ]
     },
     "execution_count": 16,
     "metadata": {},
     "output_type": "execute_result"
    }
   ],
   "source": [
    " A = A.float()\n",
    "A.mean() #平均值"
   ]
  },
  {
   "cell_type": "code",
   "execution_count": 19,
   "id": "ea17d472",
   "metadata": {},
   "outputs": [
    {
     "data": {
      "text/plain": [
       "tensor([[ 0.,  1.,  2.,  3.],\n",
       "        [ 4.,  5.,  6.,  7.],\n",
       "        [ 8.,  9., 10., 11.],\n",
       "        [12., 13., 14., 15.],\n",
       "        [16., 17., 18., 19.]])"
      ]
     },
     "execution_count": 19,
     "metadata": {},
     "output_type": "execute_result"
    }
   ],
   "source": [
    "A"
   ]
  },
  {
   "cell_type": "code",
   "execution_count": 56,
   "id": "5a57f459",
   "metadata": {},
   "outputs": [
    {
     "data": {
      "text/plain": [
       "tensor([[ 0.,  1.,  2.,  3.],\n",
       "        [ 4.,  6.,  8., 10.],\n",
       "        [12., 15., 18., 21.],\n",
       "        [24., 28., 32., 36.],\n",
       "        [40., 45., 50., 55.]])"
      ]
     },
     "execution_count": 56,
     "metadata": {},
     "output_type": "execute_result"
    }
   ],
   "source": [
    "A.cumsum(axis=0) #累加求和"
   ]
  },
  {
   "cell_type": "markdown",
   "id": "6afda02d",
   "metadata": {},
   "source": [
    "理解一下 轴  列↓为axis0  行为1 按轴sum即该轴求和 即压缩轴为点 该轴上的数字（长度失去了 shape[5,4] 则axis 0 1  0对应5  axis0则5失去了  shape为4\n",
    "shape[2,3,4] axis1 则3失去 [2,4]"
   ]
  },
  {
   "cell_type": "code",
   "execution_count": 57,
   "id": "44a4364c",
   "metadata": {},
   "outputs": [
    {
     "data": {
      "text/plain": [
       "(tensor([[[1., 1., 1.],\n",
       "          [1., 1., 1.],\n",
       "          [1., 1., 1.],\n",
       "          [1., 1., 1.]],\n",
       " \n",
       "         [[1., 1., 1.],\n",
       "          [1., 1., 1.],\n",
       "          [1., 1., 1.],\n",
       "          [1., 1., 1.]]]),\n",
       " tensor([[4., 4., 4.],\n",
       "         [4., 4., 4.]]),\n",
       " tensor([[2., 2., 2.],\n",
       "         [2., 2., 2.],\n",
       "         [2., 2., 2.],\n",
       "         [2., 2., 2.]]))"
      ]
     },
     "execution_count": 57,
     "metadata": {},
     "output_type": "execute_result"
    }
   ],
   "source": [
    "d = torch.ones(2,4, 3)\n",
    "d,d.sum(axis=1),d.sum(axis=0)\n"
   ]
  },
  {
   "cell_type": "code",
   "execution_count": 59,
   "id": "d9fd1926",
   "metadata": {},
   "outputs": [
    {
     "data": {
      "text/plain": [
       "(tensor([[[1., 1., 1.],\n",
       "          [1., 1., 1.],\n",
       "          [1., 1., 1.],\n",
       "          [1., 1., 1.]],\n",
       " \n",
       "         [[1., 1., 1.],\n",
       "          [1., 1., 1.],\n",
       "          [1., 1., 1.],\n",
       "          [1., 1., 1.]]]),\n",
       " tensor([[[4., 4., 4.]],\n",
       " \n",
       "         [[4., 4., 4.]]]))"
      ]
     },
     "execution_count": 59,
     "metadata": {},
     "output_type": "execute_result"
    }
   ],
   "source": [
    "d,d.sum(axis=1,keepdim=True) #keepdim的话 不是失去而是变为1"
   ]
  },
  {
   "cell_type": "code",
   "execution_count": 60,
   "id": "fd4865d3",
   "metadata": {},
   "outputs": [
    {
     "data": {
      "text/plain": [
       "tensor([[[8., 8., 8.]]])"
      ]
     },
     "execution_count": 60,
     "metadata": {},
     "output_type": "execute_result"
    }
   ],
   "source": [
    "d.sum(axis=[0,1],keepdim=True) #可以同时压缩多个维度"
   ]
  },
  {
   "cell_type": "markdown",
   "id": "dc97af12",
   "metadata": {},
   "source": [
    "# hadamoard积 数学积"
   ]
  },
  {
   "cell_type": "markdown",
   "id": "5863ccde",
   "metadata": {},
   "source": [
    "点积 按位乘（Hadamard积"
   ]
  },
  {
   "cell_type": "code",
   "execution_count": 25,
   "id": "14fbd777",
   "metadata": {},
   "outputs": [
    {
     "data": {
      "text/plain": [
       "tensor(10.)"
      ]
     },
     "execution_count": 25,
     "metadata": {},
     "output_type": "execute_result"
    }
   ],
   "source": [
    "q =torch.ones(4,dtype=torch.float32)\n",
    "p = torch.tensor([1,2,3,4.0])\n",
    "torch.dot(q,p)"
   ]
  },
  {
   "cell_type": "markdown",
   "id": "d328fc7d",
   "metadata": {},
   "source": [
    "mv 算真真的乘法，常常是矩阵乘向量（列) 注意 矩阵列数==向量维度"
   ]
  },
  {
   "cell_type": "code",
   "execution_count": 35,
   "id": "d2f02913",
   "metadata": {},
   "outputs": [
    {
     "data": {
      "text/plain": [
       "(torch.Size([5, 4]), torch.Size([4]), tensor([ 20.,  60., 100., 140., 180.]))"
      ]
     },
     "execution_count": 35,
     "metadata": {},
     "output_type": "execute_result"
    }
   ],
   "source": [
    "A.shape, p.shape, torch.mv(A, p)"
   ]
  },
  {
   "cell_type": "markdown",
   "id": "6d5926fe",
   "metadata": {},
   "source": [
    "mm 数学的矩阵乘法  （同理 注意维度 sk:顶真）"
   ]
  },
  {
   "cell_type": "code",
   "execution_count": 42,
   "id": "a2f43b89",
   "metadata": {},
   "outputs": [
    {
     "data": {
      "text/plain": [
       "tensor([[ 6.,  6.,  6.],\n",
       "        [22., 22., 22.],\n",
       "        [38., 38., 38.],\n",
       "        [54., 54., 54.],\n",
       "        [70., 70., 70.]])"
      ]
     },
     "execution_count": 42,
     "metadata": {},
     "output_type": "execute_result"
    }
   ],
   "source": [
    "B = torch.ones(4, 3)\n",
    "torch.mm(A, B)\n"
   ]
  },
  {
   "cell_type": "code",
   "execution_count": 44,
   "id": "eafd0801",
   "metadata": {},
   "outputs": [
    {
     "data": {
      "text/plain": [
       "2"
      ]
     },
     "execution_count": 44,
     "metadata": {},
     "output_type": "execute_result"
    }
   ],
   "source": [
    "c=torch.ones(2,3,4)\n",
    "len(c) #see len "
   ]
  },
  {
   "cell_type": "markdown",
   "id": "da18a6b3",
   "metadata": {},
   "source": [
    "# 向量长度 范数 norm"
   ]
  },
  {
   "cell_type": "markdown",
   "id": "2b997713",
   "metadata": {},
   "source": [
    "L2 范数 欧几里得距离"
   ]
  },
  {
   "cell_type": "code",
   "execution_count": 38,
   "id": "4b5121d1",
   "metadata": {},
   "outputs": [
    {
     "data": {
      "text/plain": [
       "(tensor([1., 2., 3., 4.]), tensor(5.4772))"
      ]
     },
     "execution_count": 38,
     "metadata": {},
     "output_type": "execute_result"
    }
   ],
   "source": [
    "p, torch.norm(p)"
   ]
  },
  {
   "cell_type": "markdown",
   "id": "6ae363e3",
   "metadata": {},
   "source": [
    "L1 范数 曼哈顿距离  "
   ]
  },
  {
   "cell_type": "code",
   "execution_count": 39,
   "id": "1a489b3e",
   "metadata": {},
   "outputs": [
    {
     "data": {
      "text/plain": [
       "tensor(10.)"
      ]
     },
     "execution_count": 39,
     "metadata": {},
     "output_type": "execute_result"
    }
   ],
   "source": [
    "torch.abs(p).sum()"
   ]
  },
  {
   "cell_type": "markdown",
   "id": "38a85678",
   "metadata": {},
   "source": [
    "Lp 范数 则是更通用的式子"
   ]
  },
  {
   "cell_type": "markdown",
   "id": "545bec0e",
   "metadata": {},
   "source": [
    "# 矩阵Frobenius范数 同L2"
   ]
  },
  {
   "cell_type": "code",
   "execution_count": 40,
   "id": "2914b80f",
   "metadata": {},
   "outputs": [
    {
     "data": {
      "text/plain": [
       "tensor(6.)"
      ]
     },
     "execution_count": 40,
     "metadata": {},
     "output_type": "execute_result"
    }
   ],
   "source": [
    "torch.norm(torch.ones((4, 9)))"
   ]
  },
  {
   "cell_type": "markdown",
   "id": "d4846c66",
   "metadata": {},
   "source": [
    "# 范数的重要性--目标被表示为范数\n",
    "\n",
    " 用向量表示物品\n",
    " 最小化相似项目之间的距离，最大化不同项目之间的距离。\n",
    " "
   ]
  },
  {
   "cell_type": "markdown",
   "id": "04cd6ad9",
   "metadata": {},
   "source": [
    "# 矩阵求导？"
   ]
  }
 ],
 "metadata": {
  "kernelspec": {
   "display_name": "Python 3 (ipykernel)",
   "language": "python",
   "name": "python3"
  },
  "language_info": {
   "codemirror_mode": {
    "name": "ipython",
    "version": 3
   },
   "file_extension": ".py",
   "mimetype": "text/x-python",
   "name": "python",
   "nbconvert_exporter": "python",
   "pygments_lexer": "ipython3",
   "version": "3.9.19"
  }
 },
 "nbformat": 4,
 "nbformat_minor": 5
}
