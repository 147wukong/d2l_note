{
 "cells": [
  {
   "cell_type": "markdown",
   "id": "3fa73046",
   "metadata": {},
   "source": [
    "# 组件：\n",
    "data model objective functin algorithm"
   ]
  },
  {
   "cell_type": "markdown",
   "id": "1d39cacf",
   "metadata": {},
   "source": [
    "# data:\n",
    "dimensionality 特征类别数量 hope its fixed\n",
    "from machine learning to deeplearning ,we can deal with different length \n",
    "train dataset + test dataset\n",
    "# model:\n",
    "包括层层数据转换 复杂神经网络\n",
    "# objective function:\n",
    "度量模型的优劣\n",
    "/ cost f /lost f/损失函数\n",
    "eg1; squared error 平方误差 差的平方\n",
    "train dataset上表现好 但test时无法推广 called:过拟合 overfitting\n",
    "# algorithm:\n",
    "find the best parameter to mininize loss function\n",
    "eg1: gradient descent\n"
   ]
  },
  {
   "cell_type": "markdown",
   "id": "96166bf7",
   "metadata": {},
   "source": [
    "## 使用数据来学习输入和输出之间的转换"
   ]
  },
  {
   "cell_type": "code",
   "execution_count": null,
   "id": "95f7633d",
   "metadata": {},
   "outputs": [],
   "source": []
  }
 ],
 "metadata": {
  "kernelspec": {
   "display_name": "Python 3 (ipykernel)",
   "language": "python",
   "name": "python3"
  },
  "language_info": {
   "codemirror_mode": {
    "name": "ipython",
    "version": 3
   },
   "file_extension": ".py",
   "mimetype": "text/x-python",
   "name": "python",
   "nbconvert_exporter": "python",
   "pygments_lexer": "ipython3",
   "version": "3.9.19"
  }
 },
 "nbformat": 4,
 "nbformat_minor": 5
}
